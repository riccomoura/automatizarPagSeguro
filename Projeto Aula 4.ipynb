{
 "cells": [
  {
   "cell_type": "markdown",
   "metadata": {},
   "source": [
    "Desafio\n",
    "\n",
    "Você trabalha em uma empresa de venda de serviços de alto valor agregado e seus clientes tem um prazo de pagamento de 30 dias para pagar.\n",
    "\n",
    "Acontece que, como em quase toda empresa, nem sempre os clientes pagam o valor na data acordada ou nem sempre pagam o valor por completo. Esses clientes são considerados inadimplentes.\n",
    "\n",
    "A equipe do setor financeiro faz um controle com o valor devido de cada cliente.\n",
    "\n",
    "Todos os dias, uma nova planilha dessa é gerada com os clientes que se tornaram inadimplentes naquele dia e a equipe de atendimento ao cliente precisa entrar me contato, por e-mail, com cada cliente inadimplente para enviar para eles o boleto.\n",
    "\n",
    "Essse processo é todo feito pela plataforma do banco da empresa (PagSeguro)\n",
    "\n",
    "Acontece que esse processo é todo feito pelo site do PagSeguro e é um processo bem repetitivo. E tudo que é repetitivo pode ser automatizado."
   ]
  },
  {
   "cell_type": "code",
   "execution_count": null,
   "metadata": {},
   "outputs": [],
   "source": [
    "- Passo 1: Importar a base de dados\n",
    "- Passo 2: Visualizar a base de dados\n",
    "- Passo 3: Fazer manualmente o processo no PagSeguro\n",
    "- Passo 4: Transformar o processo manual em código Python - para apenas 1 cliente\n",
    "- Passo 5: Automatizar o processo para todas as pessoas\n",
    "- Passo 6: Revisar o código e ajustar o que for necessário"
   ]
  },
  {
   "cell_type": "markdown",
   "metadata": {},
   "source": [
    "- Passos 1 e 2: Importar a Base de Dados para Visualizá-la"
   ]
  },
  {
   "cell_type": "code",
   "execution_count": null,
   "metadata": {},
   "outputs": [],
   "source": [
    "import pandas as pd\n",
    "\n",
    "tabela_clientes = pd.read_excel(\"Clientes Pagamento.xlsx\", dtype={\"Cliente\": object})\n",
    "display(tabela_clientes)"
   ]
  },
  {
   "cell_type": "markdown",
   "metadata": {},
   "source": [
    "- Passo 3: Fazer o processo manualmente no PagSeguro (feito por navegação).\n",
    "- Passo 4: Criar o processo em código Python para 1 pessoa:\n",
    "    - Paulo\n",
    "    - Devendo 609\n",
    "    - email: usuario+1@outlook.com\n",
    "    \n",
    "Para isso, vamos usar o selenium. -> Para o selenium funcionar, é preciso baixar o chromedriver."
   ]
  },
  {
   "cell_type": "code",
   "execution_count": null,
   "metadata": {},
   "outputs": [],
   "source": [
    "from selenium import webdriver\n",
    "\n",
    "navegador = webdriver.Chrome()\n",
    "navegador.get(\"https://acesso.pagseguro.uol.com.br/\")"
   ]
  },
  {
   "cell_type": "markdown",
   "metadata": {},
   "source": [
    "- Métodos de orientação para configuração do controlador automatizado:\n",
    "\n",
    "navegador.find_element_by_id\n",
    "navegador.find_element_by_xpath (para quando não tiver ID)\n",
    "\n",
    "send_keys()\n",
    "click()"
   ]
  },
  {
   "cell_type": "markdown",
   "metadata": {},
   "source": [
    "- Configurando o chromedriver contido na biblioteca selenium para automatizar o processo de gerar o ticket de cobrança para um cliente no PagSeguro."
   ]
  },
  {
   "cell_type": "code",
   "execution_count": null,
   "metadata": {},
   "outputs": [],
   "source": [
    "navegador.find_element_by_id(\"user\").send_keys(\"usuario@gmail.com\")\n",
    "navegador.find_element_by_id(\"password\").send_keys(\"123456\")"
   ]
  },
  {
   "cell_type": "code",
   "execution_count": null,
   "metadata": {},
   "outputs": [],
   "source": [
    "navegador.find_element_by_xpath('//*[@id=\"__next\"]/div/div/main/div/div/div/form/div/div/div/div/div[3]').click()\n",
    "time.sleep(5)"
   ]
  },
  {
   "cell_type": "code",
   "execution_count": null,
   "metadata": {},
   "outputs": [],
   "source": [
    "for linha in tabela_clientes.index:\n",
    "    divida = tabela_clientes.loc[linha, \"Valor Total Devido\"] - tabela_clientes.loc[linha, \"Valor Pago\"]\n",
    "    if divida > 0:\n",
    "        #Ir para página de pagamento\n",
    "        navegador.get(\"https://pagseguro.uol.com.br/operations/charging/create.jhtml\")\n",
    "        time.sleep(5)    \n",
    "\n",
    "        email = tabela_clientes.loc[linha, \"Email\"]\n",
    "        valor = dívida\n",
    "        nome = tabela_clientes.loc[linha, \"Nome\"]\n",
    "\n",
    "        #preencher email\n",
    "        navegador.find_element_by_xpath('//*[@id=\"newRequestForm\"]/div[1]/section[1]/div/fieldset[1]/input').send_keys(email)\n",
    "\n",
    "        #nome\n",
    "        navegador.find_element_by_xpath('//*[@id=\"newRequestForm\"]/div[1]/section[1]/div/fieldset[2]/input').send_keys(nome)\n",
    "\n",
    "        #descrição\n",
    "        navegador.find_element_by_xpath('//*[@id=\"newRequestForm\"]/div[1]/selection[2]/div/fieldset[1]/input').send_keys(\"Cobrança Pagamento Atrasado\")\n",
    "\n",
    "        #campo valor\n",
    "        texto_valor = f\"{valor:.2f}\"\n",
    "        navegador.find_element_by_xpath('//*[@id=\"newRequestForm\"]/div[1]/selection[2]/div/fieldset[2]/input').send_keys(texto_valor)\n",
    "\n",
    "        #Clicar no botão\n",
    "        navegador.find_element_by_xpath('//*[@id=\"sendNewCharging\"]').click()\n",
    "        time.sleep(5)\n",
    "\n",
    "        #Clicar no botão de confirmação\n",
    "        navegador.find_element_by_xpath('//*[@id=\"buttonConfirmSubmit\"]').click()\n",
    "        time.sleep(5)"
   ]
  },
  {
   "cell_type": "markdown",
   "metadata": {},
   "source": [
    "- Passo 5 e 6: Automatizar o processo para múltiplas cobranças e revisar o código.\n",
    "    - Badicionar o FOR para gerar a atividade que percorre por toda tabela\n",
    "    - Tratar condição utilizando da indentação para acomodar o bloco IF dentro do bloco FOR\n",
    "    - Definir no FOR a operação que resulta na dívida resultante na variável \"dívida\"\n",
    "    - Definição de colunas na tabela para variáveis \"email\", \"valor\" e \"nome\"\n",
    "    "
   ]
  }
 ],
 "metadata": {
  "kernelspec": {
   "display_name": "Python 3",
   "language": "python",
   "name": "python3"
  },
  "language_info": {
   "codemirror_mode": {
    "name": "ipython",
    "version": 3
   },
   "file_extension": ".py",
   "mimetype": "text/x-python",
   "name": "python",
   "nbconvert_exporter": "python",
   "pygments_lexer": "ipython3",
   "version": "3.8.5"
  }
 },
 "nbformat": 4,
 "nbformat_minor": 4
}
